{
 "cells": [
  {
   "cell_type": "code",
   "execution_count": 1,
   "metadata": {
    "scrolled": true
   },
   "outputs": [
    {
     "name": "stdout",
     "output_type": "stream",
     "text": [
      "[24, 10, 54, 47, 26, 50, 44, 68, 5, 6, 18, 75, 78, 34, 95, 8, 44, 91, 77, 72, 37, 47, 70, 27, 72, 42, 76, 23, 25, 16, 46, 31, 37, 14, 42, 80, 94, 85, 2, 65, 94, 51, 4, 36, 52, 78, 96, 30, 41, 40, 92, 70, 24, 97, 1, 56, 36, 1, 74, 69, 21, 58, 48, 57, 88, 88, 17, 37, 6, 48, 38, 3, 22, 90, 87, 16, 42, 54, 50, 45, 66, 25, 86, 96, 22, 59, 49, 92, 84, 92, 50, 78, 75, 29, 64, 70, 8, 23, 34, 90, 10, 85, 15, 69, 40, 93, 38, 92, 71, 22, 76, 8, 82, 81, 17, 31, 74, 48, 34, 18, 76, 18, 62, 77, 98, 80, 77, 75, 31, 28, 7, 48, 32, 98, 50, 52, 13, 17, 27, 90, 83, 7, 77, 9, 49, 77, 39, 3, 71, 6, 66, 84, 99, 5, 79, 89, 14, 89, 71, 94, 98, 87, 5, 15, 93, 92, 59, 69, 27, 59, 55, 63, 58, 75, 19, 14, 55, 15, 72, 68, 49, 7, 90, 8, 80, 3, 29, 56, 84, 24, 28, 72, 73, 37, 89, 66, 74, 24, 88, 59, 88, 1, 72, 4, 62, 59, 27, 58, 42, 67, 82, 21, 93, 43, 75, 92, 74, 56, 22, 21, 75, 58, 46, 16, 2, 34, 12, 84, 46, 64, 36, 44, 75, 60, 19, 60, 86, 14, 56, 25, 12, 36, 7, 60, 37, 95, 29, 17, 55, 99]\n"
     ]
    }
   ],
   "source": [
    "import random\n",
    "\n",
    "# GENERATE RANDOM\n",
    "nilaiTugas = []\n",
    "for i in range(250):\n",
    "    nilaiTugas.append(random.randrange(1,100,1))\n",
    "\n",
    "print(nilaiTugas)"
   ]
  },
  {
   "cell_type": "code",
   "execution_count": 24,
   "metadata": {},
   "outputs": [
    {
     "name": "stdout",
     "output_type": "stream",
     "text": [
      "Jawaban Soal Latihan List Nilai nilai\n",
      "1. Nilai Tugas yang berangka ganjil adalah: \n",
      "1\n",
      "1\n",
      "1\n",
      "3\n",
      "3\n",
      "3\n",
      "5\n",
      "5\n",
      "5\n",
      "7\n",
      "7\n",
      "7\n",
      "7\n",
      "9\n",
      "13\n",
      "15\n",
      "15\n",
      "15\n",
      "17\n",
      "17\n",
      "17\n",
      "17\n",
      "19\n",
      "19\n",
      "21\n",
      "21\n",
      "21\n",
      "23\n",
      "23\n",
      "25\n",
      "25\n",
      "25\n",
      "27\n",
      "27\n",
      "27\n",
      "27\n",
      "29\n",
      "29\n",
      "29\n",
      "31\n",
      "31\n",
      "31\n",
      "37\n",
      "37\n",
      "37\n",
      "37\n",
      "37\n",
      "39\n",
      "41\n",
      "43\n",
      "45\n",
      "47\n",
      "47\n",
      "49\n",
      "49\n",
      "49\n",
      "51\n",
      "55\n",
      "55\n",
      "55\n",
      "57\n",
      "59\n",
      "59\n",
      "59\n",
      "59\n",
      "59\n",
      "63\n",
      "65\n",
      "67\n",
      "69\n",
      "69\n",
      "69\n",
      "71\n",
      "71\n",
      "71\n",
      "73\n",
      "75\n",
      "75\n",
      "75\n",
      "75\n",
      "75\n",
      "75\n",
      "75\n",
      "77\n",
      "77\n",
      "77\n",
      "77\n",
      "77\n",
      "79\n",
      "81\n",
      "83\n",
      "85\n",
      "85\n",
      "87\n",
      "87\n",
      "89\n",
      "89\n",
      "89\n",
      "91\n",
      "93\n",
      "93\n",
      "93\n",
      "95\n",
      "95\n",
      "97\n",
      "99\n",
      "99\n"
     ]
    }
   ],
   "source": [
    "print (\"Jawaban Soal Latihan List Nilai nilai\")\n",
    "print (\"1. Nilai Tugas yang berangka ganjil adalah: \")\n",
    "for n in nilaiTugas:\n",
    "    if n % 2 == 1:\n",
    "        print (n,)"
   ]
  },
  {
   "cell_type": "code",
   "execution_count": 101,
   "metadata": {
    "scrolled": true
   },
   "outputs": [],
   "source": [
    "def diatas(nilaiTugas):\n",
    "    total=0\n",
    "    for n in (nilaiTugas):\n",
    "        if n>70:\n",
    "            total+=1\n",
    "    return total"
   ]
  },
  {
   "cell_type": "code",
   "execution_count": 104,
   "metadata": {},
   "outputs": [
    {
     "name": "stdout",
     "output_type": "stream",
     "text": [
      "2. Jumlah nilai diatas 70 adalah:\n"
     ]
    },
    {
     "data": {
      "text/plain": [
       "83"
      ]
     },
     "execution_count": 104,
     "metadata": {},
     "output_type": "execute_result"
    }
   ],
   "source": [
    "print(\"2. Jumlah nilai diatas 70 adalah:\")\n",
    "diatas(nilaiTugas)"
   ]
  },
  {
   "cell_type": "code",
   "execution_count": 108,
   "metadata": {},
   "outputs": [
    {
     "name": "stdout",
     "output_type": "stream",
     "text": [
      "3. Standar deviasi dari nilai Tugas adalah: 29.03189244807279 \n"
     ]
    }
   ],
   "source": [
    "import statistics  \n",
    "print(\"3. Standar deviasi dari nilai Tugas adalah: % s \" \n",
    "                % (statistics.stdev(nilaiTugas))) "
   ]
  },
  {
   "cell_type": "code",
   "execution_count": 118,
   "metadata": {},
   "outputs": [
    {
     "name": "stdout",
     "output_type": "stream",
     "text": [
      "4. nilai maksimum dari nilai Tugas adalah:\n"
     ]
    },
    {
     "data": {
      "text/plain": [
       "99"
      ]
     },
     "execution_count": 118,
     "metadata": {},
     "output_type": "execute_result"
    }
   ],
   "source": [
    "print(\"4. nilai maksimum dari nilai Tugas adalah:\")\n",
    "max (nilaiTugas)"
   ]
  },
  {
   "cell_type": "code",
   "execution_count": 119,
   "metadata": {},
   "outputs": [
    {
     "name": "stdout",
     "output_type": "stream",
     "text": [
      "sedangkan nilai minimum dari nilai tugas adalah: \n"
     ]
    },
    {
     "data": {
      "text/plain": [
       "1"
      ]
     },
     "execution_count": 119,
     "metadata": {},
     "output_type": "execute_result"
    }
   ],
   "source": [
    "print (\"sedangkan nilai minimum dari nilai tugas adalah: \")\n",
    "min (nilaiTugas)"
   ]
  },
  {
   "cell_type": "code",
   "execution_count": 121,
   "metadata": {},
   "outputs": [
    {
     "name": "stdout",
     "output_type": "stream",
     "text": [
      "5. Modus dari sekumpulan nilai dalam nilai Tugas adalah 75\n"
     ]
    }
   ],
   "source": [
    "print(\"5. Modus dari sekumpulan nilai dalam nilai Tugas adalah % s\" % (statistics.mode(nilaiTugas))) "
   ]
  },
  {
   "cell_type": "code",
   "execution_count": 122,
   "metadata": {},
   "outputs": [
    {
     "name": "stdout",
     "output_type": "stream",
     "text": [
      "terimakasih\n"
     ]
    }
   ],
   "source": [
    "print(\"terimakasih\")"
   ]
  },
  {
   "cell_type": "code",
   "execution_count": null,
   "metadata": {},
   "outputs": [],
   "source": []
  }
 ],
 "metadata": {
  "kernelspec": {
   "display_name": "Python 3",
   "language": "python",
   "name": "python3"
  },
  "language_info": {
   "codemirror_mode": {
    "name": "ipython",
    "version": 3
   },
   "file_extension": ".py",
   "mimetype": "text/x-python",
   "name": "python",
   "nbconvert_exporter": "python",
   "pygments_lexer": "ipython3",
   "version": "3.7.0"
  }
 },
 "nbformat": 4,
 "nbformat_minor": 2
}
