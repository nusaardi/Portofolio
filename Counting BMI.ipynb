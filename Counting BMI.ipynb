{
 "cells": [
  {
   "cell_type": "code",
   "execution_count": 3,
   "metadata": {},
   "outputs": [
    {
     "name": "stdout",
     "output_type": "stream",
     "text": [
      "Berat Badan dalam KG: 63\n",
      "Tinggi badan dalam CM: 168\n",
      "BMI Anda Adalah:\n",
      "22.321428571428577\n",
      "Anda termasuk Normal(Healthy Weight)\n"
     ]
    }
   ],
   "source": [
    "Berat = int (input (\"Berat Badan dalam KG: \"))\n",
    "Tinggi = int (input (\"Tinggi badan dalam CM: \"))\n",
    "TinggiDalamMeter = Tinggi/100\n",
    "BMI = Berat/ TinggiDalamMeter**2\n",
    "print(\"BMI Anda Adalah:\") \n",
    "print(BMI)\n",
    "if BMI<15:\n",
    "    print(\"Anda termasuk Very Severely Underweight\")\n",
    "elif BMI>15 and BMI<16:\n",
    "    print(\"Anda termasuk Severely Weight\")\n",
    "elif BMI>16 and BMI<18.5:\n",
    "    print(\"Anda termasuk Underweight\")\n",
    "elif BMI>18.5 and BMI<25:\n",
    "    print(\"Anda termasuk Normal(Healthy Weight)\")\n",
    "elif BMI>25 and BMI<30:\n",
    "    print(\"Overweight\")\n",
    "elif BMI>30 and BMI<35:\n",
    "    print(\"Moderately Obese\")\n",
    "elif BMI>35 and BMI<40:\n",
    "    print(\"Severely Obese\")\n",
    "else:\n",
    "    print(\"Very Severely Obese\")"
   ]
  },
  {
   "cell_type": "code",
   "execution_count": null,
   "metadata": {},
   "outputs": [],
   "source": []
  }
 ],
 "metadata": {
  "kernelspec": {
   "display_name": "Python 3",
   "language": "python",
   "name": "python3"
  },
  "language_info": {
   "codemirror_mode": {
    "name": "ipython",
    "version": 3
   },
   "file_extension": ".py",
   "mimetype": "text/x-python",
   "name": "python",
   "nbconvert_exporter": "python",
   "pygments_lexer": "ipython3",
   "version": "3.7.0"
  }
 },
 "nbformat": 4,
 "nbformat_minor": 2
}
